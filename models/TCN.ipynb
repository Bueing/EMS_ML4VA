{
 "cells": [
  {
   "cell_type": "code",
   "execution_count": null,
   "metadata": {},
   "outputs": [
    {
     "name": "stdout",
     "output_type": "stream",
     "text": [
      "17919\n",
      "19\n"
     ]
    }
   ],
   "source": [
    "import time_series_helper\n",
    "from sklearn.model_selection import train_test_split\n",
    "\n",
    "X, y, num_features = time_series_helper.make_data_for_model()\n",
    "\n",
    "X_train, X_test, y_train, y_test = train_test_split(X, y, shuffle=False, test_size=0.2)"
   ]
  },
  {
   "cell_type": "code",
   "execution_count": null,
   "metadata": {},
   "outputs": [],
   "source": [
    "from TCN import TCN\n",
    "from tensorflow.keras.models import Sequential\n",
    "from tensorflow.keras.layers import Dense\n",
    "\n",
    "myTCN = Sequential([\n",
    "    TCN(input_shape=(14, num_features)),\n",
    "    Dense(1)\n",
    "])\n",
    "\n",
    "myTCN.compile(optimizer='adam', loss='mse')\n",
    "myTCN.summary()\n",
    "\n",
    "history = myTCN.fit(X_train, y_train, epochs=20, batch_size=32, validation_split=0.1)"
   ]
  },
  {
   "cell_type": "code",
   "execution_count": null,
   "metadata": {},
   "outputs": [],
   "source": [
    "y_pred = myTCN.predict(X_test)"
   ]
  },
  {
   "cell_type": "code",
   "execution_count": null,
   "metadata": {},
   "outputs": [],
   "source": [
    "from sklearn.metrics import mean_squared_error, mean_absolute_error\n",
    "\n",
    "mse = mean_squared_error(y_test, y_pred)\n",
    "mae = mean_absolute_error(y_test, y_pred)\n",
    "\n",
    "print(\"MSE: \" + str(mse))\n",
    "print(\"MAE: \" + str(mae))"
   ]
  },
  {
   "cell_type": "code",
   "execution_count": null,
   "metadata": {},
   "outputs": [],
   "source": [
    "import matplotlib.pyplot as plt\n",
    "\n",
    "plt.figure(figsize=(12, 6))\n",
    "plt.plot(y_test[:50], label='Actual', marker='o')\n",
    "plt.plot(y_pred[:50], label='Predicted', marker='x')\n",
    "plt.legend()\n",
    "plt.title('Predicted vs Actual EMS Calls')\n",
    "plt.xlabel('Time Step')\n",
    "plt.ylabel('Call Volume')\n",
    "plt.show()"
   ]
  }
 ],
 "metadata": {
  "language_info": {
   "name": "python"
  }
 },
 "nbformat": 4,
 "nbformat_minor": 2
}
